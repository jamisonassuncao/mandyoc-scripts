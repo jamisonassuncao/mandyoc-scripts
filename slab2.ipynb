{
 "cells": [
  {
   "cell_type": "code",
   "execution_count": 1,
   "id": "554a1917-cc1f-406d-835c-b376516d8e9b",
   "metadata": {},
   "outputs": [],
   "source": [
    "import numpy as np\n",
    "import xarray as xr\n",
    "import pandas as pd\n",
    "# import ipyvolume as ipv\n",
    "# import pyvista as pv\n",
    "# import matplotlib.pyplot as plt\n",
    "\n",
    "from mpl_toolkits.mplot3d import Axes3D\n",
    "import matplotlib.pyplot as plt\n",
    "from matplotlib import cm\n",
    "from matplotlib.ticker import LinearLocator, FormatStrFormatter\n",
    "\n",
    "dir0 = '/Users/kugelblitz/Documents/USP/models/Slab2.0/Slab2Distribute_Mar2018/Slab2_TXT/'"
   ]
  },
  {
   "cell_type": "code",
   "execution_count": 2,
   "id": "e0e4a649-40a0-49d5-8313-b2a2265440f6",
   "metadata": {},
   "outputs": [],
   "source": [
    "#phi_slab2_dip_02.26.18.xyz\n",
    "\n",
    "################################################################################\n",
    "# Read Slab2 file data -> top surface of the slab\n",
    "################################################################################\n",
    "data = pd.read_csv('./src/sam_slab2_dep_02.23.18.xyz', names=['lon', 'lat', 'dep'])\n",
    "dep = data.pivot_table(index='lon', columns='lat', values='dep', dropna=False).T.values\n",
    "dep = xr.DataArray(1.0E3 * dep, coords=[np.unique(data['lat']), np.unique(data['lon'])], dims=['lat', 'lon'])\n",
    "dep.attrs['units'] = 'm'\n",
    "\n",
    "################################################################################\n",
    "# Read Slab2 file data -> thickness of the slab\n",
    "################################################################################\n",
    "data = pd.read_csv('./src/sam_slab2_thk_02.23.18.xyz', names=['lon', 'lat', 'thk'])\n",
    "thk = data.pivot_table(index='lon', columns='lat', values='thk', dropna=False).T.values\n",
    "thk = xr.DataArray(1.0E3 * thk, coords=[np.unique(data['lat']), np.unique(data['lon'])], dims=['lat', 'lon'])\n",
    "thk.attrs['units'] = 'm'\n",
    "\n",
    "# ################################################################################\n",
    "# # Read Slab2 file data -> strike angle of the slab\n",
    "# ################################################################################\n",
    "data = pd.read_csv('./src/sam_slab2_str_02.23.18.xyz', names=['lon', 'lat', 'str'])\n",
    "str = data.pivot_table(index='lon', columns='lat', values='str', dropna=False).T.values\n",
    "str *= np.pi / 180.\n",
    "str = xr.DataArray(str, coords=[np.unique(data['lat']), np.unique(data['lon'])], dims=['lat', 'lon'])\n",
    "str.attrs['units'] = 'rad'\n",
    "\n",
    "################################################################################\n",
    "# Read Slab2 file data -> dip angle of the slab\n",
    "################################################################################\n",
    "data = pd.read_csv('./src/sam_slab2_dip_02.23.18.xyz', names=['lon', 'lat', 'dip'])\n",
    "dip = data.pivot_table(index='lon', columns='lat', values='dip', dropna=False).T.values\n",
    "dip *= np.pi / 180.\n",
    "dip = xr.DataArray(dip, coords=[np.unique(data['lat']), np.unique(data['lon'])], dims=['lat', 'lon'])\n",
    "dip.attrs['units'] = 'rad'"
   ]
  },
  {
   "cell_type": "code",
   "execution_count": null,
   "id": "13d3d921-7976-4835-995d-af09331e4374",
   "metadata": {},
   "outputs": [],
   "source": [
    "X = dep.lon\n",
    "Y = dep.lat\n",
    "X, Y = np.meshgrid(X, Y)\n",
    "Z = - dep.values / 1_000.0\n",
    "Z = ~np.isnan(Z)\n",
    "\n",
    "fig = plt.figure(figsize=plt.figaspect(0.5))\n",
    "\n",
    "ax = fig.add_subplot(1, 1, 1, projection='3d')\n",
    "\n",
    "surf = ax.plot_surface(X, Y, Z, rstride=1, cstride=1, cmap=cm.coolwarm,\n",
    "                       linewidth=0, antialiased=False)\n",
    "ax.set_zlim(np.min(Z), np.max(Z))\n",
    "fig.colorbar(surf, shrink=0.5, aspect=10)\n",
    "\n",
    "plt.show()"
   ]
  },
  {
   "cell_type": "code",
   "execution_count": 18,
   "id": "8fe20b9d-e615-4298-91db-a7eecb208089",
   "metadata": {},
   "outputs": [
    {
     "ename": "ValueError",
     "evalue": "operands could not be broadcast together with shapes (1281,) (1281,581) ",
     "output_type": "error",
     "traceback": [
      "\u001b[0;31m---------------------------------------------------------------------------\u001b[0m",
      "\u001b[0;31mValueError\u001b[0m                                Traceback (most recent call last)",
      "\u001b[0;32m<ipython-input-18-7948d3bfa9d0>\u001b[0m in \u001b[0;36m<module>\u001b[0;34m\u001b[0m\n\u001b[1;32m     14\u001b[0m \u001b[0;31m#dLatCos = thk.values * np.cos(str.values)\u001b[0m\u001b[0;34m\u001b[0m\u001b[0;34m\u001b[0m\u001b[0;34m\u001b[0m\u001b[0m\n\u001b[1;32m     15\u001b[0m \u001b[0mx2\u001b[0m \u001b[0;34m=\u001b[0m \u001b[0mx1\u001b[0m \u001b[0;34m+\u001b[0m \u001b[0;34m(\u001b[0m\u001b[0mnp\u001b[0m\u001b[0;34m.\u001b[0m\u001b[0mnan_to_num\u001b[0m\u001b[0;34m(\u001b[0m\u001b[0mdLonSin\u001b[0m\u001b[0;34m)\u001b[0m\u001b[0;34m)\u001b[0m \u001b[0;31m#- (np.nan_to_num(dLatCos))\u001b[0m\u001b[0;34m\u001b[0m\u001b[0;34m\u001b[0m\u001b[0m\n\u001b[0;32m---> 16\u001b[0;31m \u001b[0my2\u001b[0m \u001b[0;34m=\u001b[0m \u001b[0my1\u001b[0m \u001b[0;34m+\u001b[0m \u001b[0;34m(\u001b[0m\u001b[0mnp\u001b[0m\u001b[0;34m.\u001b[0m\u001b[0mnan_to_num\u001b[0m\u001b[0;34m(\u001b[0m\u001b[0mdLatSin\u001b[0m\u001b[0;34m)\u001b[0m\u001b[0;34m)\u001b[0m\u001b[0;34m\u001b[0m\u001b[0;34m\u001b[0m\u001b[0m\n\u001b[0m\u001b[1;32m     17\u001b[0m \u001b[0;34m\u001b[0m\u001b[0m\n\u001b[1;32m     18\u001b[0m \u001b[0;34m\u001b[0m\u001b[0m\n",
      "\u001b[0;31mValueError\u001b[0m: operands could not be broadcast together with shapes (1281,) (1281,581) "
     ]
    }
   ],
   "source": [
    "# cond = ((str > 0.0) & (str < np.pi / 2.)) | ((str > 3. * np.pi / 2.) & (str < 2 * np.pi))\n",
    "# dip.values[cond] *= (-1)\n",
    "\n",
    "# btm1 = dep.values - thk.values\n",
    "x1 = dep['lon'].values * 111000.\n",
    "y1 = dep['lat'].values * 111000.\n",
    "# x1, y1 = np.meshgrid(x1, y1)\n",
    "\n",
    "# dLonCos = thk.values * np.cos(dip.values)\n",
    "# btm2 = dep.values - np.nan_to_num(dLonCos)\n",
    "\n",
    "dLonSin = thk.values * np.sin(dip.values)\n",
    "dLatSin = thk.values * np.sin(str.values)\n",
    "#dLatCos = thk.values * np.cos(str.values)\n",
    "x2 = x1 + (np.nan_to_num(dLonSin)) #- (np.nan_to_num(dLatCos))\n",
    "y2 = y1 + (np.nan_to_num(dLatSin))\n",
    "\n",
    "\n",
    "grid_dep = pv.StructuredGrid(x1, y1, dep.values)\n",
    "grid_btm = pv.StructuredGrid(x2, y2, btm2)\n",
    "#grid_btm2 = pv.StructuredGrid(xx,y,btm2.values)\n",
    "###grid_thk = pv.StructuredGrid(x,y,btm.values)\n",
    "##\n",
    "#grid = pv.StructuredGrid(xx, y, btm2.values)\n",
    "plotter = pv.Plotter()\n",
    "plotter.add_mesh(grid_dep, color='grey', jupyter_backend='pythreejs')\n",
    "plotter.add_mesh(grid_btm, color='blue', jupyter_backend='pythreejs')\n",
    "#plotter.add_mesh(grid_btm, color='green')\n",
    "plotter.show()\n",
    "\n",
    "\n",
    "# #yy = dep['lat'].values * 111.\n",
    "# #xxx, yy = np.meshgrid(dep['lon'].values * 111., yy)\n",
    "# #lat_mesh = xr.DataArray(x)\n",
    "\n",
    "# #slab2 = xr.Dataset({'dep': dep, 'thk': thk, 'dip': dip, 'str': str, 'btm': btm})\n",
    "# #\n",
    "# #\n",
    "# #\n",
    "# ##df = xr.DataArray(dep)\n",
    "# ##slab2 = xr.Dataset(df)\n",
    "# #\n",
    "# #\n",
    "# #\n",
    "# #cpos = [(38850., -9100., 6660.),\n",
    "# #\t\t(32000., -1900., -330.),\n",
    "# #\t\t(0., 0., 1.)]\n",
    "# #\n",
    "# #\n",
    "# grid_dep = pv.StructuredGrid(x1, y1, dep.values)\n",
    "# grid_btm = pv.StructuredGrid(x2, y2, btm2)\n",
    "# #grid_btm2 = pv.StructuredGrid(xx,y,btm2.values)\n",
    "# ###grid_thk = pv.StructuredGrid(x,y,btm.values)\n",
    "# ##\n",
    "# #grid = pv.StructuredGrid(xx, y, btm2.values)\n",
    "# plotter = pv.Plotter()\n",
    "# plotter.add_mesh(grid_dep, color='grey', jupyter_backend='pythreejs')\n",
    "# plotter.add_mesh(grid_btm, color='blue', jupyter_backend='pythreejs')\n",
    "# #plotter.add_mesh(grid_btm, color='green')\n",
    "# plotter.show()\n",
    "\n",
    "\n",
    "# # Plotting specific latitude\n",
    "# #index = 700\n",
    "# #plt.plot(x1 / 1.0E3, dep.values[index] / 1.0E3, label='dep')\n",
    "# #plt.plot(x1 / 1.0E3, btm1[index] / 1.0E3, label='btm1', color=(0.95, 0.95, 0.95))\n",
    "# #plt.plot(x2[index] / 1.0E3, btm2[index] / 1.0E3, label='btm2')\n",
    "# #plt.legend()\n",
    "# #plt.show()"
   ]
  },
  {
   "cell_type": "code",
   "execution_count": 9,
   "id": "022d207d",
   "metadata": {},
   "outputs": [
    {
     "data": {
      "application/vnd.jupyter.widget-view+json": {
       "model_id": "5a97726c6ee5491ba051a7898277f809",
       "version_major": 2,
       "version_minor": 0
      },
      "text/plain": [
       "VBox(children=(Figure(camera=PerspectiveCamera(fov=45.0, position=(0.0, 0.0, 2.0), projectionMatrix=(1.0, 0.0,…"
      ]
     },
     "metadata": {},
     "output_type": "display_data"
    }
   ],
   "source": [
    "x = dep.lon\n",
    "y = dep.lat\n",
    "x, y = np.meshgrid(x, y)\n",
    "z = - dep.values / 1_000.0\n",
    "\n",
    "fig = ipv.figure()\n",
    "surf = ipv.plot_surface(x, y, z)\n",
    "ipv.xlim(270, 310)\n",
    "ipv.zlim(4000, 0)\n",
    "ipv.show()"
   ]
  },
  {
   "cell_type": "code",
   "execution_count": null,
   "id": "59ae38aa-a742-4166-bde4-9153c2b908a3",
   "metadata": {},
   "outputs": [],
   "source": []
  },
  {
   "cell_type": "code",
   "execution_count": null,
   "id": "4aa54ffb",
   "metadata": {},
   "outputs": [],
   "source": [
    "np.floor(np.min(x)/1.0)"
   ]
  },
  {
   "cell_type": "code",
   "execution_count": null,
   "id": "9b3cd764",
   "metadata": {},
   "outputs": [],
   "source": [
    "# Make data\n",
    "x = dep.lon\n",
    "y = dep.lat\n",
    "x, y = np.meshgrid(x, y)\n",
    "z = dep.values/100000.0\n",
    "\n",
    "# Create and plot structured grid\n",
    "grid = pv.StructuredGrid(x, y, z)\n",
    "# grid.threshold([0,1])\n",
    "outline = grid.outline()\n",
    "# threshold = grid.threshold([0,1])\n",
    "# grid = grid.threshold()\n",
    "# grid.plot(jupyter_backend='ipygany', show_scalar_bar=True)\n",
    "# grid.plot(color='white', jupyter_backend='ipygany')\n",
    "# grid.show()\n",
    "# grid.plot(outline, color=\"k\")\n",
    "\n",
    "\n",
    "# plotter = pv.Plotter()\n",
    "# plotter.add_mesh(outline, color='black')\n",
    "# plotter.add_mesh(grid, color='white')\n",
    "# plotter.show()\n",
    "\n",
    "# from itkwidgets import view\n",
    "\n",
    "\n",
    "# view(geometries=grid, geometry_colors='w')"
   ]
  },
  {
   "cell_type": "code",
   "execution_count": null,
   "id": "d29503f6",
   "metadata": {},
   "outputs": [],
   "source": [
    "# from pyvista import demos\n",
    "\n",
    "# # basic glyphs demo\n",
    "# mesh = grid_dep\n",
    "\n",
    "# # text = demos.logo.text_3d(\"I'm interactive!\", depth=0.2)\n",
    "# # text.points *= 0.1\n",
    "# # text.translate([0, 1.4, 1.5])\n",
    "# # mesh += text\n",
    "# # mesh['Example Scalars'] = mesh.points[:, 0]\n",
    "\n",
    "# mesh.plot(cpos='xy', jupyter_backend='ipygany', show_scalar_bar=True)"
   ]
  },
  {
   "cell_type": "code",
   "execution_count": null,
   "id": "42dc2869",
   "metadata": {},
   "outputs": [],
   "source": [
    "outline"
   ]
  },
  {
   "cell_type": "code",
   "execution_count": null,
   "id": "5562cf1b",
   "metadata": {},
   "outputs": [],
   "source": []
  }
 ],
 "metadata": {
  "kernelspec": {
   "display_name": "Python 3",
   "language": "python",
   "name": "python3"
  },
  "language_info": {
   "codemirror_mode": {
    "name": "ipython",
    "version": 3
   },
   "file_extension": ".py",
   "mimetype": "text/x-python",
   "name": "python",
   "nbconvert_exporter": "python",
   "pygments_lexer": "ipython3",
   "version": "3.7.10"
  }
 },
 "nbformat": 4,
 "nbformat_minor": 5
}
