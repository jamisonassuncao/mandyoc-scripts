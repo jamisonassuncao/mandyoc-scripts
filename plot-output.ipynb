{
 "cells": [
  {
   "cell_type": "code",
   "execution_count": 1,
   "metadata": {},
   "outputs": [],
   "source": [
    "import os\n",
    "import gc\n",
    "import xarray as xr\n",
    "import numpy as np\n",
    "\n",
    "import matplotlib.pyplot as plt\n",
    "from matplotlib.colors import LogNorm\n",
    "from matplotlib import rc\n",
    "from mpl_toolkits.axes_grid1.inset_locator import inset_axes\n",
    "from matplotlib.transforms import Bbox\n",
    "from matplotlib.patches import FancyBboxPatch\n",
    "from matplotlib.font_manager import FontProperties\n",
    "\n",
    "from functions.mandyocIO import read_mandyoc_output, read_datasets, read_particle_path"
   ]
  },
  {
   "cell_type": "markdown",
   "metadata": {},
   "source": [
    "# Initial setup"
   ]
  },
  {
   "cell_type": "code",
   "execution_count": 2,
   "metadata": {},
   "outputs": [],
   "source": [
    "# Path to the model directory\n",
    "# model_path = \"/home/kugelblitz/runs/strak_57\"\n",
    "model_path = \"/Users/assuncao/Desktop/_phase-test-true-0\"\n",
    "\n",
    "read_ascii = False # if False, it will skip the ascii reading and saving processes and it will read the datasets from previous runs\n",
    "plot_first = True # Generate and plot only the first image\n",
    "save_images = False # Generate and save all the possible images\n",
    "follow_particle = False # Stores x and z position of a particle through the simulation\n",
    "make_video = False # Make video witll all the possible imagesTrue\n",
    "make_gif = False # Make an animated gif with the generated video"
   ]
  },
  {
   "cell_type": "markdown",
   "metadata": {},
   "source": [
    "# Datasets handeling\n",
    "## Model path"
   ]
  },
  {
   "cell_type": "code",
   "execution_count": 36,
   "metadata": {},
   "outputs": [],
   "source": [
    "# Create the output directory to save the dataset\n",
    "output_path = os.path.join(model_path, \"_output\")\n",
    "if not os.path.isdir(output_path):\n",
    "    os.makedirs(output_path)\n",
    "\n",
    "model_name = os.path.split(model_path)[1]\n",
    "\n",
    "datasets = (\"temperature\", \"density\")\n",
    "# datasets = (\"temperature\", \"viscosity\", \"strain_rate\", \"surface\", \"velocity\", \"density\")"
   ]
  },
  {
   "cell_type": "markdown",
   "metadata": {},
   "source": [
    "### Read ascii outputs and save them as xarray.Datasets"
   ]
  },
  {
   "cell_type": "code",
   "execution_count": 37,
   "metadata": {},
   "outputs": [],
   "source": [
    "# Read data and convert them to xarray.Dataset\n",
    "if (read_ascii):\n",
    "    ds_data = read_mandyoc_output(\n",
    "        model_path,\n",
    "        datasets=datasets,\n",
    "        parameters_file=\"param.txt\"\n",
    "    )"
   ]
  },
  {
   "cell_type": "code",
   "execution_count": 38,
   "metadata": {},
   "outputs": [],
   "source": [
    "if (follow_particle):    \n",
    "    particle_x, particle_z, particle_ID = read_particle_path(\n",
    "        model_path,\n",
    "        (2_400.0e3, -100.0e3),\n",
    "        unit_number=3,\n",
    "        ncores=np.nan\n",
    "    )"
   ]
  },
  {
   "cell_type": "code",
   "execution_count": 39,
   "metadata": {},
   "outputs": [],
   "source": [
    "if (follow_particle):\n",
    "    x_disp = abs(particle_x[-1] - particle_x[0])\n",
    "    z_disp = abs(particle_z[-1] - particle_z[0])\n",
    "    print(\"X displacement:\", x_disp/1.0e3, \"[km]\")\n",
    "    print(\"Z displacement:\", z_disp/1.0e3, \"[km]\")\n",
    "    plt.figure(figsize=(x_disp*2/z_disp, 4), facecolor=\"white\")\n",
    "    plt.title(f'Particle {int(particle_ID)} trajectory')\n",
    "    plt.plot(particle_x/1.0e3, particle_z/1.0e3, color='grey')\n",
    "    plt.scatter(particle_x/1.0e3, particle_z/1.0e3, color='grey')\n",
    "    plt.scatter(particle_x[0]/1.0e3, particle_z[0]/1.0e3, color='blue', label='Begin', zorder=10) # zorder must be big to be on top of the other plots\n",
    "    plt.scatter(particle_x[-1]/1.0e3, particle_z[-1]/1.0e3, color='red', label='End', zorder=10)\n",
    "    plt.legend()\n",
    "    plt.xlabel(\"x [km]\")\n",
    "    plt.ylabel(\"z [km]\")\n",
    "    plt.savefig(f\"{output_path}/{model_name}_output_trajectory_{int(particle_ID)}.png\", dpi=300)"
   ]
  },
  {
   "cell_type": "markdown",
   "metadata": {},
   "source": [
    "## Read and merge saved datasets into a single dataset"
   ]
  },
  {
   "cell_type": "code",
   "execution_count": 40,
   "metadata": {},
   "outputs": [
    {
     "name": "stdout",
     "output_type": "stream",
     "text": [
      "<xarray.Dataset>\n",
      "Dimensions:      (x: 81, z: 81, time: 41)\n",
      "Coordinates:\n",
      "  * x            (x) float64 0.0 1.25e+03 2.5e+03 ... 9.75e+04 9.875e+04 1e+05\n",
      "  * z            (z) float64 -1e+05 -9.875e+04 -9.75e+04 ... -1.25e+03 0.0\n",
      "  * time         (time) float64 0.0 0.4528 0.8432 1.188 ... 4.961 4.999 5.036\n",
      "    step         (time) int32 0 5 10 15 20 25 30 ... 170 175 180 185 190 195 200\n",
      "Data variables:\n",
      "    temperature  (time, x, z) float64 ...\n",
      "    density      (time, x, z) float64 ...\n",
      "Attributes: (12/97)\n",
      "    nx:                                81\n",
      "    nz:                                81\n",
      "    lx:                                100000.0\n",
      "    lz:                                100000.0\n",
      "    particles_per_element_x:           0\n",
      "    particles_per_element_z:           0\n",
      "    ...                                ...\n",
      "    temperature_units:                 C\n",
      "    density_units:                     kg/m^3\n",
      "    heat_units:                        W/m^3\n",
      "    viscosity_units:                   Pa s\n",
      "    strain_rate_units:                 s^(-1)\n",
      "    pressure_units:                    Pa\n"
     ]
    }
   ],
   "source": [
    "if (save_images) or (plot_first):\n",
    "    dataset = read_datasets(model_path, datasets)\n",
    "\n",
    "    # Normalize velocity values\n",
    "    if (\"velocity_x\" and \"velocity_x\") in dataset.data_vars:\n",
    "        v_max = np.max((dataset.velocity_x**2 + dataset.velocity_z**2)**(0.5))    \n",
    "        dataset.velocity_x[:] = dataset.velocity_x[:] / v_max\n",
    "        dataset.velocity_z[:] = dataset.velocity_z[:] / v_max\n",
    "\n",
    "    print(dataset)"
   ]
  },
  {
   "cell_type": "markdown",
   "metadata": {},
   "source": [
    "# Output images cofig"
   ]
  },
  {
   "cell_type": "code",
   "execution_count": 41,
   "metadata": {},
   "outputs": [],
   "source": [
    "colorbar_text_pos_left = 1.2\n",
    "colorbar_width = \"20%\"\n",
    "colorbar_text_labelpad = -100"
   ]
  },
  {
   "cell_type": "markdown",
   "metadata": {},
   "source": [
    "# Generate and save output images"
   ]
  },
  {
   "cell_type": "code",
   "execution_count": 42,
   "metadata": {},
   "outputs": [
    {
     "name": "stdout",
     "output_type": "stream",
     "text": [
      "output 0/0, 100.00%\r"
     ]
    },
    {
     "data": {
      "image/png": "[encoded data removed]",
      "text/plain": [
       "<Figure size 432x1152 with 4 Axes>"
      ]
     },
     "metadata": {},
     "output_type": "display_data"
    }
   ],
   "source": [
    "if (save_images) or (plot_first):\n",
    "    aux = 0\n",
    "    if (\"temperature\" or (\"velocity_x\" and \"velocity_x\")) in dataset.data_vars:\n",
    "        aux += 1\n",
    "        if \"temperature\" in dataset.data_vars:\n",
    "            t_min = dataset.temperature.min() \n",
    "            t_max = dataset.temperature.max()\n",
    "        if (\"velocity_x\" and \"velocity_x\") in dataset.data_vars:\n",
    "            to_mm_yr = 365 * 24 * 60 * 60 * 1000.0\n",
    "            desired_mm_per_year_value = 50.0\n",
    "            v_key = desired_mm_per_year_value / to_mm_yr / v_max\n",
    "            v_scale = 0.25 # If set to <n>, max velocity arrows will have the size of dataset.x.max()/<n>\n",
    "    if \"strain_rate\" in dataset.data_vars:\n",
    "        e_min, e_max = dataset.strain_rate.min(), dataset.strain_rate.max()\n",
    "        aux += 1\n",
    "    if \"viscosity\" in dataset.data_vars:\n",
    "        eta_min, eta_max = float(dataset.attrs[\"viscosity_min\"]), float(dataset.attrs[\"viscosity_max\"])\n",
    "        aux += 1\n",
    "    if \"surface\" in dataset.data_vars:\n",
    "        w_min, w_max = -10, 10 # dataset.surface.min()/1.0e3, dataset.surface.max()/1.0e3\n",
    "        aux += 1\n",
    "    if \"density\" in dataset.data_vars:\n",
    "        aux += 1\n",
    "\n",
    "    aux_size_x = np.round(float(abs(dataset.x[-1]/1.0e6)), 1)\n",
    "    aux_size_z = np.round(float(abs(dataset.z[0]/1.0e6)), 1)\n",
    "    \n",
    "    aux_size_x = np.max([aux_size_x,2])\n",
    "    aux_size_z = np.max([aux_size_z,2])\n",
    "    \n",
    "    # Create the colors to plot the density\n",
    "    cr = 255.0\n",
    "    color_air = (255.0 / cr, 255.0 / cr, 255.0 / cr)\n",
    "    color_continental_crust = (228.0 / cr, 156.0 / cr, 124.0 / cr)\n",
    "    color_continental_mantle = (240.0 / cr, 209.0 / cr, 188.0 / cr)\n",
    "    color_oceanic_crust = (155.0 / cr, 194.0 / cr, 155.0 / cr)\n",
    "    color_oceanic_mantle = (207.0 / cr, 226.0 / cr, 205.0 / cr)\n",
    "    colors = [\n",
    "        color_air,\n",
    "        color_continental_crust, \n",
    "        color_continental_mantle, \n",
    "        color_oceanic_crust, \n",
    "        color_oceanic_mantle\n",
    "    ]\n",
    "\n",
    "    SMALL_SIZE, MEDIUM_SIZE, BIGGER_SIZE = 16, 16, 16\n",
    "\n",
    "    plt.rc('font', size=SMALL_SIZE)          # controls default text sizes\n",
    "    plt.rc('axes', titlesize=SMALL_SIZE)     # fontsize of the axes title\n",
    "    plt.rc('axes', labelsize=MEDIUM_SIZE)    # fontsize of the x and y labels\n",
    "    plt.rc('xtick', labelsize=SMALL_SIZE)    # fontsize of the tick labels\n",
    "    plt.rc('ytick', labelsize=SMALL_SIZE)    # fontsize of the tick labels\n",
    "    plt.rc('legend', fontsize=SMALL_SIZE)    # legend fontsize\n",
    "    plt.rc('figure', titlesize=BIGGER_SIZE)  # fontsize of the figure title\n",
    "\n",
    "    hspace = 0.2\n",
    "\n",
    "    start = 0\n",
    "    end = dataset.time.size - 1\n",
    "    step = 1\n",
    "    \n",
    "    if (plot_first):\n",
    "        start = 0\n",
    "        end = 1\n",
    "        step = 1\n",
    "\n",
    "    # Corrects an unintended fontsize on the first run for the quiverkey\n",
    "    quiverkey_font = FontProperties()\n",
    "    quiverkey_font.set_size(MEDIUM_SIZE)\n",
    "\n",
    "    for i in range(start, end, step):\n",
    "        subplot_num = 0\n",
    "        per = np.round(100*(i+1-start)/(end-start), 2)\n",
    "        print(f'output {i}/{end-1}, {per:.2f}%', end='\\r')\n",
    "\n",
    "        data = dataset.isel(time=i)\n",
    "\n",
    "        fig, axs = plt.subplots(aux, 1, figsize=(3*aux_size_x, aux*4*aux_size_z), sharex=True, facecolor=\"white\")\n",
    "        fig.subplots_adjust(hspace=hspace)\n",
    "\n",
    "        if \"surface\" in dataset.data_vars:\n",
    "            if (i == 0) or (start != 0): \n",
    "                data_0 = dataset.isel(time=0)\n",
    "                h_air = np.round(np.mean(data_0.surface/1.0e3)) # Estimates air layer thickness based on the first step\n",
    "            im = axs[subplot_num].hlines(0, data.surface.x[0]/1.0e3, data.surface.x[-1]/1.0e3, linestyle=\"solid\", color=\"grey\")\n",
    "            im = axs[subplot_num].plot(data.surface.x/1.0e3, data.surface/1.0e3 - h_air)\n",
    "            axs[subplot_num].set_ylim(-10, 10)\n",
    "            axs[subplot_num].set_ylim(w_min, w_max)\n",
    "            axs[subplot_num].set_ylabel(\"Elevation [km]\")\n",
    "            surface_subplot_num = subplot_num\n",
    "            imshow_box = np.array(axs[subplot_num].get_position()) # Backup Bbox to be used if no other data_vars is in the xarray.Dataset\n",
    "            subplot_num += 1\n",
    "\n",
    "        if \"viscosity\" in dataset.data_vars:\n",
    "            im = axs[subplot_num].imshow(data.viscosity.T[::-1], \n",
    "                                         extent=[data.x.min()/1.0e3, data.x.max()/1.0e3, data.z.min()/1.0e3, data.z.max()/1.0e3], \n",
    "                                         norm=LogNorm(vmin=eta_min, vmax=eta_max),\n",
    "                                         cmap=\"viridis\")\n",
    "            cax = inset_axes(axs[subplot_num], \n",
    "                             width=colorbar_width, \n",
    "                             height=\"100%\", \n",
    "                             loc='center left', \n",
    "                             bbox_to_anchor=(colorbar_text_pos_left, 0., 0.3, 1), \n",
    "                             bbox_transform=axs[subplot_num].transAxes, \n",
    "                             borderpad=0)\n",
    "            axs[subplot_num].set_aspect(\"equal\")\n",
    "            axs[subplot_num].set_ylabel(\"Depth [km]\")\n",
    "            cbar = fig.colorbar(im, cax=cax)\n",
    "            cbar.set_label(r'Viscosity, $\\eta$ [Pa.s]', rotation=90, labelpad=colorbar_text_labelpad)\n",
    "            imshow_box = np.array(axs[subplot_num].get_position())\n",
    "            if (follow_particle):\n",
    "                im = axs[subplot_num].plot(particle_x/1.0e3, particle_z/1.0e3, color=\"red\")\n",
    "                im = axs[subplot_num].scatter(particle_x[i]/1.0e3, particle_z[i]/1.0e3, color=\"blue\", zorder=10)\n",
    "            subplot_num += 1\n",
    "            \n",
    "        if \"density\" in dataset.data_vars:\n",
    "            im = axs[subplot_num].imshow(data.density.T[::-1], \n",
    "                                         extent=[data.x.min()/1.0e3, data.x.max()/1.0e3, data.z.min()/1.0e3, data.z.max()/1.0e3], \n",
    "                                         cmap=\"RdYlBu_r\")\n",
    "            cax = inset_axes(axs[subplot_num], \n",
    "                             width=colorbar_width, \n",
    "                             height=\"100%\", \n",
    "                             loc='center left', \n",
    "                             bbox_to_anchor=(colorbar_text_pos_left, 0., 0.3, 1), \n",
    "                             bbox_transform=axs[subplot_num].transAxes, \n",
    "                             borderpad=0)\n",
    "            axs[subplot_num].set_aspect(\"equal\")\n",
    "            axs[subplot_num].set_ylabel(\"Depth [km]\")\n",
    "            cbar = fig.colorbar(im, cax=cax)\n",
    "            cbar.set_label(r'Density, $\\rho$ [kg/m$^3$]', rotation=90, labelpad=colorbar_text_labelpad)\n",
    "            imshow_box = np.array(axs[subplot_num].get_position())\n",
    "            subplot_num += 1\n",
    "\n",
    "        if (\"temperature\" or (\"velocity_x\" and \"velocity_x\")) in dataset.data_vars:\n",
    "            if \"temperature\" in dataset.data_vars:\n",
    "                im = axs[subplot_num].imshow(data.temperature.T[::-1], \n",
    "                                             extent=[data.x.min()/1.0e3, data.x.max()/1.0e3, data.z.min()/1.0e3, data.z.max()/1.0e3], \n",
    "                                             vmin=t_min, vmax=t_max, \n",
    "                                             cmap=\"RdYlBu_r\")\n",
    "                cax = inset_axes(axs[subplot_num], \n",
    "                                 width=colorbar_width, \n",
    "                                 height=\"100%\", \n",
    "                                 loc='center left', \n",
    "                                 bbox_to_anchor=(colorbar_text_pos_left, 0., 0.3, 1), \n",
    "                                 bbox_transform=axs[subplot_num].transAxes, \n",
    "                                 borderpad=0)\n",
    "                cbar = fig.colorbar(im, cax=cax)\n",
    "                cbar.set_label(r'Temperature, T [$^{\\circ}$C]', rotation=90, labelpad=colorbar_text_labelpad)\n",
    "            if (\"velocity_x\" and \"velocity_x\") in dataset.data_vars:\n",
    "                num_vectors = 15\n",
    "                vel_aux = data[dict(x=slice(None, None, num_vectors), z=slice(None, None, num_vectors))]\n",
    "                v_label = '$\\overrightarrow{v} =$' + f'{np.round(float(v_key*v_max*to_mm_yr))} [mm/yr]'\n",
    "                im = axs[subplot_num].quiver(vel_aux.x/1.0e3, \n",
    "                                             vel_aux.z/1.0e3, \n",
    "                                             vel_aux.velocity_x.values.T, \n",
    "                                             vel_aux.velocity_z.values.T, \n",
    "                                             scale=v_scale)\n",
    "                # arrow_size = 0.085 * dataset.x.max()/1.0e3\n",
    "                # dd = 100\n",
    "                # dx, dz = 1150 + arrow_size, 2 * dd\n",
    "                # x0, z0 = dataset.x.max()/1.0e3 - dx - dd,  dataset.z.min()/1.0e3 + dd\n",
    "                im = axs[subplot_num].quiverkey(im, \n",
    "                                                X=0.5,#(x0+arrow_size)/(dataset.x.max()/1.0e3),\n",
    "                                                Y=-0.1,#1-(z0+dd)/(dataset.z.min()/1.0e3),\n",
    "                                                U=v_key,\n",
    "                                                label=v_label, \n",
    "                                                labelpos='E', \n",
    "                                                fontproperties=quiverkey_font) # fontproperties corrects an unintended behaviour where the incorrect fontsize was used during 1st run\n",
    "                # im = axs[subplot_num].add_patch(FancyBboxPatch((x0, z0), dx, dz, boxstyle='round, rounding_size=25', facecolor = 'white'))\n",
    "            # axs[subplot_num].set_aspect(\"equal\")\n",
    "            axs[subplot_num].set_aspect(\"equal\")\n",
    "            axs[subplot_num].set_ylabel(\"Depth [km]\")\n",
    "            imshow_box = np.array(axs[subplot_num].get_position())\n",
    "            subplot_num += 1\n",
    "\n",
    "        if \"strain_rate\" in dataset.data_vars:\n",
    "            im = axs[subplot_num].imshow(data.strain_rate.T[::-1],  \n",
    "                                         extent=[data.x.min()/1.0e3, data.x.max()/1.0e3, data.z.min()/1.0e3, data.z.max()/1.0e3], \n",
    "                                         norm=LogNorm(vmin=e_min, vmax=e_max), \n",
    "                                         alpha=1.0,\n",
    "                                         zorder=100,\n",
    "                                         cmap=plt.get_cmap(\"viridis\"))\n",
    "            cax = inset_axes(axs[subplot_num], \n",
    "                             width=colorbar_width, \n",
    "                             height=\"100%\", \n",
    "                             loc='center left', \n",
    "                             bbox_to_anchor=(colorbar_text_pos_left, 0., 0.3, 1), \n",
    "                             bbox_transform=axs[subplot_num].transAxes, \n",
    "                             borderpad=0)\n",
    "            axs[subplot_num].set_aspect(\"equal\")\n",
    "            axs[subplot_num].set_ylabel(\"Depth [km]\")\n",
    "            cbar = fig.colorbar(im, cax=cax)\n",
    "            cbar.set_label(r'Strain rate, $\\dot{\\epsilon}$ [s$^{-1}$]', rotation=90, labelpad=colorbar_text_labelpad)\n",
    "            imshow_box = np.array(axs[subplot_num].get_position())\n",
    "            subplot_num += 1\n",
    "\n",
    "        # Fix surface plot aspect ratio and position\n",
    "        if \"surface\" in dataset.data_vars:\n",
    "            axs[surface_subplot_num].set_aspect(dataset.surface.x.max()/1.0e3/120)\n",
    "            plot_box = np.array(axs[surface_subplot_num].get_position())    \n",
    "            new_plot_box = Bbox([[imshow_box[0, 0], plot_box[0, 1]], [imshow_box[1, 0], plot_box[1, 1]]])\n",
    "            axs[surface_subplot_num].set_position(new_plot_box)   \n",
    "\n",
    "        axs[subplot_num-1].set_xlabel(\"Length [km]\")\n",
    "        plt.suptitle(\"time = {:.2f} My, step = {}\".format(np.round(data.time.item(), 2), data.step.item()), ha='center', y=0.9, x=0.5)\n",
    "        fig.align_ylabels(axs[:])\n",
    "        plt.savefig(f\"{output_path}/{model_name}_output_{str(i).zfill(6)}.png\", dpi=300)\n",
    "        if (plot_first==False):\n",
    "            plt.close('all')"
   ]
  },
  {
   "cell_type": "markdown",
   "metadata": {},
   "source": [
    "## Make video with output images"
   ]
  },
  {
   "cell_type": "code",
   "execution_count": null,
   "metadata": {},
   "outputs": [],
   "source": [
    "line = f\"ffmpeg -r 7 -i {model_path}/_output/{model_name}_output_%06d.png -c:v libx264 -vf fps=25 -pix_fmt yuv420p {model_path}/_output/{model_name}.mp4\"\n",
    "print(line)\n",
    "if (make_video):\n",
    "    !rm {model_path}/_output/{model_name}.mp4\n",
    "    !ffmpeg -r 7 -i {model_path}/_output/{model_name}_output_%06d.png -c:v libx264 -vf fps=25 -pix_fmt yuv420p {model_path}/_output/{model_name}.mp4"
   ]
  },
  {
   "cell_type": "code",
   "execution_count": null,
   "metadata": {},
   "outputs": [],
   "source": [
    "line = 'ffmpeg -ss 0 -t 10 -i {model_path}/_output/{model_name}.mp4 -vf \"fps=10,scale=1080:-1:flags=lanczos,split[s0][s1];[s0]palettegen[p];[s1][p]paletteuse\" -loop 0 {model_path}/_output/{model_name}.gif'\n",
    "print(line)\n",
    "if (make_gif):\n",
    "    !rm {model_path}/_output/{model_name}.gif\n",
    "    !ffmpeg -ss 0 -t 10 -i {model_path}/_output/{model_name}.mp4 -vf \"fps=100,scale=1080:-1:flags=lanczos,split[s0][s1];[s0]palettegen[p];[s1][p]paletteuse\" -loop 0 {model_path}/_output/{model_name}.gif"
   ]
  },
  {
   "cell_type": "code",
   "execution_count": null,
   "metadata": {},
   "outputs": [],
   "source": []
  },
  {
   "cell_type": "code",
   "execution_count": null,
   "metadata": {},
   "outputs": [],
   "source": []
  }
 ],
 "metadata": {
  "kernelspec": {
   "display_name": "Python 3 (ipykernel)",
   "language": "python",
   "name": "python3"
  },
  "language_info": {
   "codemirror_mode": {
    "name": "ipython",
    "version": 3
   },
   "file_extension": ".py",
   "mimetype": "text/x-python",
   "name": "python",
   "nbconvert_exporter": "python",
   "pygments_lexer": "ipython3",
   "version": "3.9.13"
  }
 },
 "nbformat": 4,
 "nbformat_minor": 4
}
