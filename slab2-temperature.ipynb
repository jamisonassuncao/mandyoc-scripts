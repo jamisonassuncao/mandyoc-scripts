{
 "cells": [
  {
   "cell_type": "code",
   "execution_count": 1,
   "id": "4dcf48a4-6103-4fef-b053-6f7a737906c3",
   "metadata": {},
   "outputs": [],
   "source": [
    "import os\n",
    "import pandas as pd\n",
    "import xarray as xr\n",
    "import numpy as np\n",
    "import pyvista as pv\n",
    "pv.set_jupyter_backend('pythreejs')"
   ]
  },
  {
   "cell_type": "markdown",
   "id": "b544c712-dbe7-4224-a911-45eb0e00bc96",
   "metadata": {},
   "source": [
    "Check if there is a directory with the Slab2.0 model"
   ]
  },
  {
   "cell_type": "code",
   "execution_count": 2,
   "id": "f7ddbdfe-1d5c-45a8-a364-dfd420c86ce0",
   "metadata": {},
   "outputs": [],
   "source": [
    "pwd = os.path.join(\"src\")\n",
    "if not os.path.exists(pwd):\n",
    "    print('Error: Could not find source directory to Slab2.0.')\n",
    "\n",
    "dep_file = os.path.join(pwd,'sam_slab2_dep_02.23.18.xyz')\n",
    "thk_file = os.path.join(pwd,'sam_slab2_thk_02.23.18.xyz')\n",
    "str_file = os.path.join(pwd,'sam_slab2_str_02.23.18.xyz')\n",
    "dip_file = os.path.join(pwd,'sam_slab2_dip_02.23.18.xyz')"
   ]
  },
  {
   "cell_type": "markdown",
   "id": "cd65d6fc-2ae9-44a6-b42c-510a011619d9",
   "metadata": {},
   "source": [
    "Read the top surface depth of the slab"
   ]
  },
  {
   "cell_type": "code",
   "execution_count": 3,
   "id": "7c38acd2-a0c1-4b26-bd57-e573cfb8e092",
   "metadata": {},
   "outputs": [],
   "source": [
    "data = pd.read_csv(dep_file, names=['lon', 'lat', 'dep'])\n",
    "dep = data.pivot_table(index='lon', columns='lat', values='dep', dropna=False).T.values\n",
    "dep = xr.DataArray(1.0E3 * dep, coords=[np.unique(data['lat']), np.unique(data['lon'])], dims=['lat', 'lon'])\n",
    "dep.attrs['units'] = 'm'\n",
    "dep = dep.to_dataset(name='dep')"
   ]
  },
  {
   "cell_type": "markdown",
   "id": "04fa7b05-1807-46c4-a019-44df0e4fd844",
   "metadata": {},
   "source": [
    "Read the thickness of the slab"
   ]
  },
  {
   "cell_type": "code",
   "execution_count": 4,
   "id": "e2080d97-1a7b-472b-b7c1-0d57e64a424f",
   "metadata": {},
   "outputs": [],
   "source": [
    "data = pd.read_csv(thk_file, names=['lon', 'lat', 'thk'])\n",
    "thk = data.pivot_table(index='lon', columns='lat', values='thk', dropna=False).T.values\n",
    "thk = xr.DataArray(1.0E3 * thk, coords=[np.unique(data['lat']), np.unique(data['lon'])], dims=['lat', 'lon'])\n",
    "thk.attrs['units'] = 'm'\n",
    "thk = thk.to_dataset(name='thk')"
   ]
  },
  {
   "cell_type": "markdown",
   "id": "0207fbbc-d0ad-4f3a-a9d2-c73481ef57ac",
   "metadata": {},
   "source": [
    "Read the strike angle of the slab"
   ]
  },
  {
   "cell_type": "code",
   "execution_count": 5,
   "id": "e1da83fb-e52c-4aa6-a52a-e66236c801b3",
   "metadata": {},
   "outputs": [],
   "source": [
    "data = pd.read_csv(str_file, names=['lon', 'lat', 'str'])\n",
    "strike = data.pivot_table(index='lon', columns='lat', values='str', dropna=False).T.values\n",
    "strike *= np.pi / 180.\n",
    "strike = xr.DataArray(strike, coords=[np.unique(data['lat']), np.unique(data['lon'])], dims=['lat', 'lon'])\n",
    "strike.attrs['units'] = 'rad'\n",
    "strike = strike.to_dataset(name='str')"
   ]
  },
  {
   "cell_type": "markdown",
   "id": "79676fe0-449e-46df-b680-88ed836745e0",
   "metadata": {},
   "source": [
    "Read the dip angle of the slab"
   ]
  },
  {
   "cell_type": "code",
   "execution_count": 6,
   "id": "8350ac7a-e1d7-49bd-aead-9dd1ff2ac4f4",
   "metadata": {},
   "outputs": [],
   "source": [
    "data = pd.read_csv(dip_file, names=['lon', 'lat', 'dip'])\n",
    "dip = data.pivot_table(index='lon', columns='lat', values='dip', dropna=False).T.values\n",
    "dip *= np.pi / 180.\n",
    "dip = xr.DataArray(dip, coords=[np.unique(data['lat']), np.unique(data['lon'])], dims=['lat', 'lon'])\n",
    "dip.attrs['units'] = 'rad'\n",
    "dip = dip.to_dataset(name='dip')"
   ]
  },
  {
   "cell_type": "markdown",
   "id": "968f9647-2158-4cd6-a4f9-3520be86c705",
   "metadata": {},
   "source": [
    "Merge DataArrays into a Dataset"
   ]
  },
  {
   "cell_type": "code",
   "execution_count": 7,
   "id": "446ca6ff-9ddb-4dca-964e-9b73fec3ab04",
   "metadata": {},
   "outputs": [],
   "source": [
    "slab2 = xr.merge([dep, thk, strike, dip])"
   ]
  },
  {
   "cell_type": "code",
   "execution_count": 8,
   "id": "19710ccf-cfed-4c33-90cc-dcc7ac40a5a7",
   "metadata": {},
   "outputs": [],
   "source": [
    "X = slab2.coords['lon']\n",
    "Y = slab2.coords['lat']\n",
    "X, Y = np.meshgrid(X, Y)\n",
    "Z = slab2.dep.values / 1_000.0 / 100\n",
    "\n",
    "mesh = pv.StructuredGrid(X, Y, Z)\n",
    "mesh[\"dep\"] = Z.flatten(order=\"F\")"
   ]
  },
  {
   "cell_type": "code",
   "execution_count": 9,
   "id": "3ceec2e1-3503-4876-8546-bb5e918152cb",
   "metadata": {},
   "outputs": [
    {
     "data": {
      "application/vnd.jupyter.widget-view+json": {
       "model_id": "1c9beb2ad6864d75acc1c6c7182666a8",
       "version_major": 2,
       "version_minor": 0
      },
      "text/plain": [
       "Renderer(camera=PerspectiveCamera(aspect=1.3333333333333333, children=(DirectionalLight(intensity=0.25, positi…"
      ]
     },
     "metadata": {},
     "output_type": "display_data"
    }
   ],
   "source": [
    "plotter = pv.Plotter(multi_samples=8)\n",
    "plotter.add_mesh(mesh)\n",
    "plotter.add_bounding_box()\n",
    "plotter.camera_position='xy'\n",
    "plotter.show()"
   ]
  },
  {
   "cell_type": "code",
   "execution_count": null,
   "id": "fbe2ca5e-3dce-482c-a258-cf8e1324fe0e",
   "metadata": {},
   "outputs": [],
   "source": []
  }
 ],
 "metadata": {
  "kernelspec": {
   "display_name": "Python 3 (ipykernel)",
   "language": "python",
   "name": "python3"
  },
  "language_info": {
   "codemirror_mode": {
    "name": "ipython",
    "version": 3
   },
   "file_extension": ".py",
   "mimetype": "text/x-python",
   "name": "python",
   "nbconvert_exporter": "python",
   "pygments_lexer": "ipython3",
   "version": "3.9.13"
  }
 },
 "nbformat": 4,
 "nbformat_minor": 5
}
