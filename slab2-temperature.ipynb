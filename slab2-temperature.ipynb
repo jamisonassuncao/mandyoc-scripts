{
 "cells": [
  {
   "cell_type": "markdown",
   "id": "58a4579c-6c9f-4142-9dfd-1da63c8d6fa9",
   "metadata": {},
   "source": [
    "Libraries"
   ]
  },
  {
   "cell_type": "code",
   "execution_count": null,
   "id": "4dcf48a4-6103-4fef-b053-6f7a737906c3",
   "metadata": {},
   "outputs": [],
   "source": [
    "import os\n",
    "import pandas as pd\n",
    "import xarray as xr\n",
    "import numpy as np\n",
    "import pyvista as pv\n",
    "from scipy.interpolate import griddata"
   ]
  },
  {
   "cell_type": "markdown",
   "id": "9f10b535-6a0d-4c72-8a25-dbde0a4e0d85",
   "metadata": {},
   "source": [
    "Global *pyvista* settings"
   ]
  },
  {
   "cell_type": "code",
   "execution_count": null,
   "id": "618545f5-d6b6-411a-b99d-a0e8ae069347",
   "metadata": {},
   "outputs": [],
   "source": [
    "pv.set_jupyter_backend('pythreejs')\n",
    "\n",
    "pv.global_theme.background = 'white'\n",
    "pv.global_theme.window_size = [400, 400]\n",
    "pv.global_theme.antialiasing = True\n",
    "# pv.global_theme.show_edges = True\n",
    "# pv.global_theme.edge_color = 'white'\n",
    "# pv.global_theme -> visualize all the theme options"
   ]
  },
  {
   "cell_type": "markdown",
   "id": "26b5b16d-d0ec-4759-bdba-9b46ab2e1dc3",
   "metadata": {},
   "source": [
    "Constants"
   ]
  },
  {
   "cell_type": "code",
   "execution_count": null,
   "id": "f8c7a505-8625-461c-a035-1baa150bae4e",
   "metadata": {},
   "outputs": [],
   "source": [
    "CTE = 111.0 # constant to convert lat. and lon. values to km\n",
    "SCALE = 100 # number to scale depth"
   ]
  },
  {
   "cell_type": "markdown",
   "id": "b544c712-dbe7-4224-a911-45eb0e00bc96",
   "metadata": {},
   "source": [
    "# Load Slab2 model\n",
    "Check if there is a directory with the Slab2.0 model"
   ]
  },
  {
   "cell_type": "code",
   "execution_count": null,
   "id": "f7ddbdfe-1d5c-45a8-a364-dfd420c86ce0",
   "metadata": {},
   "outputs": [],
   "source": [
    "pwd = os.path.join(\"src\")\n",
    "if not os.path.exists(pwd):\n",
    "    print('Error: Could not find source directory to Slab2.0.')\n",
    "\n",
    "dep_file = os.path.join(pwd,'sam_slab2_dep_02.23.18.xyz')\n",
    "thk_file = os.path.join(pwd,'sam_slab2_thk_02.23.18.xyz')\n",
    "str_file = os.path.join(pwd,'sam_slab2_str_02.23.18.xyz')\n",
    "dip_file = os.path.join(pwd,'sam_slab2_dip_02.23.18.xyz')"
   ]
  },
  {
   "cell_type": "markdown",
   "id": "cd65d6fc-2ae9-44a6-b42c-510a011619d9",
   "metadata": {},
   "source": [
    "Read the top surface depth of the slab"
   ]
  },
  {
   "cell_type": "code",
   "execution_count": null,
   "id": "7c38acd2-a0c1-4b26-bd57-e573cfb8e092",
   "metadata": {},
   "outputs": [],
   "source": [
    "data = pd.read_csv(dep_file, names=['lon', 'lat', 'dep'])\n",
    "dep = data.pivot_table(index='lon', columns='lat', values='dep', dropna=False).T.values\n",
    "dep = xr.DataArray(1.0E3 * dep, coords=[np.unique(data['lat']), np.unique(data['lon'])], dims=['lat', 'lon'])\n",
    "dep.attrs['units'] = 'm'\n",
    "dep = dep.to_dataset(name='dep')"
   ]
  },
  {
   "cell_type": "markdown",
   "id": "04fa7b05-1807-46c4-a019-44df0e4fd844",
   "metadata": {},
   "source": [
    "Read the thickness of the slab"
   ]
  },
  {
   "cell_type": "code",
   "execution_count": null,
   "id": "e2080d97-1a7b-472b-b7c1-0d57e64a424f",
   "metadata": {},
   "outputs": [],
   "source": [
    "data = pd.read_csv(thk_file, names=['lon', 'lat', 'thk'])\n",
    "thk = data.pivot_table(index='lon', columns='lat', values='thk', dropna=False).T.values\n",
    "thk = xr.DataArray(1.0E3 * thk, coords=[np.unique(data['lat']), np.unique(data['lon'])], dims=['lat', 'lon'])\n",
    "thk.attrs['units'] = 'm'\n",
    "thk = thk.to_dataset(name='thk')"
   ]
  },
  {
   "cell_type": "markdown",
   "id": "0207fbbc-d0ad-4f3a-a9d2-c73481ef57ac",
   "metadata": {},
   "source": [
    "Read the strike angle of the slab"
   ]
  },
  {
   "cell_type": "code",
   "execution_count": null,
   "id": "e1da83fb-e52c-4aa6-a52a-e66236c801b3",
   "metadata": {},
   "outputs": [],
   "source": [
    "data = pd.read_csv(str_file, names=['lon', 'lat', 'str'])\n",
    "strike = data.pivot_table(index='lon', columns='lat', values='str', dropna=False).T.values\n",
    "strike *= np.pi / 180.\n",
    "strike = xr.DataArray(strike, coords=[np.unique(data['lat']), np.unique(data['lon'])], dims=['lat', 'lon'])\n",
    "strike.attrs['units'] = 'rad'\n",
    "strike = strike.to_dataset(name='str')"
   ]
  },
  {
   "cell_type": "markdown",
   "id": "79676fe0-449e-46df-b680-88ed836745e0",
   "metadata": {},
   "source": [
    "Read the dip angle of the slab"
   ]
  },
  {
   "cell_type": "code",
   "execution_count": null,
   "id": "8350ac7a-e1d7-49bd-aead-9dd1ff2ac4f4",
   "metadata": {},
   "outputs": [],
   "source": [
    "data = pd.read_csv(dip_file, names=['lon', 'lat', 'dip'])\n",
    "dip = data.pivot_table(index='lon', columns='lat', values='dip', dropna=False).T.values\n",
    "dip *= np.pi / 180.\n",
    "dip = xr.DataArray(dip, coords=[np.unique(data['lat']), np.unique(data['lon'])], dims=['lat', 'lon'])\n",
    "dip.attrs['units'] = 'rad'\n",
    "dip = dip.to_dataset(name='dip')"
   ]
  },
  {
   "cell_type": "markdown",
   "id": "968f9647-2158-4cd6-a4f9-3520be86c705",
   "metadata": {},
   "source": [
    "Merge all the DataArrays into a Dataset"
   ]
  },
  {
   "cell_type": "code",
   "execution_count": null,
   "id": "446ca6ff-9ddb-4dca-964e-9b73fec3ab04",
   "metadata": {},
   "outputs": [],
   "source": [
    "slab2 = xr.merge([dep, thk, strike, dip])"
   ]
  },
  {
   "cell_type": "markdown",
   "id": "e679561d-b4d0-4bbe-a1dc-d23f10c9d00b",
   "metadata": {},
   "source": [
    "# Make Slab2 bottom surface and *pyvista* meshes\n",
    "Make *pyvista* mesh"
   ]
  },
  {
   "cell_type": "code",
   "execution_count": null,
   "id": "19710ccf-cfed-4c33-90cc-dcc7ac40a5a7",
   "metadata": {},
   "outputs": [],
   "source": [
    "x = slab2.coords['lon']\n",
    "y = slab2.coords['lat']\n",
    "x, y = np.meshgrid(x, y)\n",
    "z = slab2.dep.values / 1_000.0 / SCALE\n",
    "\n",
    "top_mesh = pv.StructuredGrid(x, y, z)\n",
    "\n",
    "top_mesh[\"top\"] = (slab2.dep.values).flatten(order=\"F\")\n",
    "top_mesh[\"dip\"] = (slab2.dip.values).flatten(order=\"F\")\n",
    "top_mesh[\"str\"] = (slab2.str.values).flatten(order=\"F\")"
   ]
  },
  {
   "cell_type": "code",
   "execution_count": null,
   "id": "5aa06ca5-54e3-40c9-8001-26b71bc4651f",
   "metadata": {},
   "outputs": [],
   "source": [
    "bot_x = slab2.coords[\"lon\"] * CTE\n",
    "bot_y = slab2.coords[\"lat\"] * CTE\n",
    "bot_x, bot_y = np.meshgrid(bot_x, bot_y)\n",
    "\n",
    "# Calculate dip correction\n",
    "x_corr_dip = np.sin(slab2.dip.values) * slab2.thk.values / 1_000\n",
    "z_corr_dip = np.cos(slab2.dip.values) * slab2.thk.values / 1_000\n",
    "\n",
    "# Calculate strike correction\n",
    "x_corr_str = np.sin(slab2.str.values) * x_corr_dip / 1_000\n",
    "y_corr_str = np.cos(slab2.str.values) * x_corr_dip / 1_000\n",
    "\n",
    "# Apply correction to bot_z\n",
    "bot_z = ((slab2.dep.values / 1_000)  - z_corr_dip) / SCALE\n",
    "\n",
    "# Ref. bot mesh (will be removed!)\n",
    "ref_mesh = pv.StructuredGrid(x, y, bot_z)\n",
    "ref_mesh[\"bot\"] = bot_z.flatten(order=\"F\")\n",
    "ref_mesh[\"dip\"] = (slab2.dip.values).flatten(order=\"F\")\n",
    "\n",
    "# Apply corrections to bot_x and bot_y\n",
    "for i in range(bot_z.shape[0]):\n",
    "    for j in range(bot_z.shape[1]):\n",
    "        if (~np.isnan(bot_z[i,j])):\n",
    "            bot_x[i,j] = bot_x[i,j] - x_corr_dip[i,j] + x_corr_str[i,j]\n",
    "            bot_y[i,j] = bot_y[i,j] - y_corr_str[i,j]\n",
    "\n",
    "# Filter np.nan and interpolate Slab2 bottom surface\n",
    "points = np.zeros((bot_z.size, 3))\n",
    "aux = 0\n",
    "for j in range(bot_z.shape[1]):\n",
    "    for i in range(bot_z.shape[0]):\n",
    "        if (~np.isnan(bot_z[i,j])):\n",
    "            points[aux,0] = bot_x[i,j] / CTE\n",
    "            points[aux,1] = bot_y[i,j] / CTE\n",
    "            points[aux,2] = bot_z[i,j]\n",
    "            aux += 1\n",
    "values = points[:aux,2]            \n",
    "points = points[:aux,:2]\n",
    "interp_z = griddata(points, values, (x.T, y.T), method='cubic')\n",
    "\n",
    "# Make grid\n",
    "bot_mesh = pv.StructuredGrid(x, y, interp_z.T)\n",
    "bot_mesh[\"bot\"] = (interp_z.T).flatten(order=\"F\")"
   ]
  },
  {
   "cell_type": "code",
   "execution_count": null,
   "id": "3ceec2e1-3503-4876-8546-bb5e918152cb",
   "metadata": {},
   "outputs": [],
   "source": [
    "points = bot_mesh.glyph(scale=True, factor=0.1)"
   ]
  },
  {
   "cell_type": "code",
   "execution_count": null,
   "id": "4d6d7113-c253-404f-b937-6ecdf9455d81",
   "metadata": {},
   "outputs": [],
   "source": [
    "plotter = pv.Plotter(multi_samples=4)\n",
    "plotter.add_mesh(top_mesh, scalars=\"top\")\n",
    "plotter.add_mesh(bot_mesh, scalars=\"bot\")\n",
    "# plotter.add_mesh(points, color='black')\n",
    "# plotter.add_mesh(ref_mesh, scalars=\"dip\", cmap=\"seismic\")\n",
    "plotter.add_bounding_box()\n",
    "plotter.camera_position = 'xy'\n",
    "plotter.show()"
   ]
  }
 ],
 "metadata": {
  "kernelspec": {
   "display_name": "Python 3 (ipykernel)",
   "language": "python",
   "name": "python3"
  },
  "language_info": {
   "codemirror_mode": {
    "name": "ipython",
    "version": 3
   },
   "file_extension": ".py",
   "mimetype": "text/x-python",
   "name": "python",
   "nbconvert_exporter": "python",
   "pygments_lexer": "ipython3",
   "version": "3.9.13"
  }
 },
 "nbformat": 4,
 "nbformat_minor": 5
}
