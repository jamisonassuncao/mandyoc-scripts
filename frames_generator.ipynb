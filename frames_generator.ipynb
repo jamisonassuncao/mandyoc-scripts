{
 "cells": [
  {
   "cell_type": "code",
   "execution_count": null,
   "id": "cb3297cf",
   "metadata": {
    "scrolled": true
   },
   "outputs": [],
   "source": [
    "#increase the display size to 95% of window width\n",
    "from IPython.display import display, HTML\n",
    "display(HTML(\"<style>.container { width:95% !important; }</style>\"))\n",
    "display(HTML(\"<style>.output_result { max-width:95% !important; }</style>\"))\n",
    "\n",
    "import os\n",
    "import gc\n",
    "import xarray as xr\n",
    "import numpy as np\n",
    "\n",
    "import matplotlib.pyplot as plt\n",
    "from matplotlib.colors import LogNorm\n",
    "from matplotlib import rc\n",
    "from mpl_toolkits.axes_grid1.inset_locator import inset_axes\n",
    "from matplotlib.transforms import Bbox\n",
    "from matplotlib.patches import FancyBboxPatch\n",
    "from matplotlib.font_manager import FontProperties\n",
    "from matplotlib.ticker import (MultipleLocator, FormatStrFormatter,\n",
    "                               AutoMinorLocator)\n",
    "from scipy.interpolate import interp1d\n",
    "from scipy.interpolate import interp2d\n",
    "\n",
    "from functions.mandyocIO import read_mandyoc_output, read_datasets, read_particle_path, single_plot, change_dataset"
   ]
  },
  {
   "cell_type": "markdown",
   "id": "a820ed74",
   "metadata": {},
   "source": [
    "# Initial setup"
   ]
  },
  {
   "cell_type": "code",
   "execution_count": null,
   "id": "785f552d",
   "metadata": {},
   "outputs": [],
   "source": [
    "path = os.getcwd().split('/') # Get local file\n",
    "machine_path = '/'+path[1]+'/'+path[2] # Select home according to OS.\n",
    "\n",
    "# Path to the model directory\n",
    "# model_path = machine_path + \"/Doutorado/cenarios/mandyoc/stable/lit80km/stable_PT200_rheol19_c1250_C1_HprodAst\"\n",
    "model_path = machine_path + \"/Doutorado/cenarios/mandyoc/accordion/Acc_TBC_interp_mean/DT200_PT1291oC/Sim001_rheol19_acc_DT200_PT1291oC_TBC_mean\"\n",
    "\n",
    "read_ascii = True # if False, it will skip the ascii reading and saving processes and it will read the datasets from previous runs\n",
    "save_images = True # Generate and save all the possible images\n",
    "save_big_dataset = True"
   ]
  },
  {
   "cell_type": "markdown",
   "id": "73e3c1af",
   "metadata": {},
   "source": [
    "# Datasets handeling\n",
    "## Model path"
   ]
  },
  {
   "cell_type": "code",
   "execution_count": null,
   "id": "33a78be1",
   "metadata": {},
   "outputs": [],
   "source": []
  },
  {
   "cell_type": "code",
   "execution_count": null,
   "id": "16476b00",
   "metadata": {},
   "outputs": [],
   "source": [
    "# Create the output directory to save the dataset\n",
    "output_path = os.path.join(model_path, \"_output\")\n",
    "\n",
    "if not os.path.isdir(output_path):\n",
    "    os.makedirs(output_path)\n",
    "\n",
    "model_name = os.path.split(model_path)[1]\n",
    "\n",
    "datasets = [#Properties from mandyoc. Comment/uncomment to select properties of the dataset\n",
    "            'density',\n",
    "            'radiogenic_heat',\n",
    "            'pressure',\n",
    "            'strain',\n",
    "            'strain_rate',### Read ascii outputs and save them as xarray.Datasets,\n",
    "            'surface',\n",
    "            'temperature',\n",
    "            'viscosity'\n",
    "            ]# Read data and convert them to xarray.Dataset\n",
    "\n",
    "properties = [#Properties from mandyoc. Comment/uncomment to select with ones you would like to plot\n",
    "#              'density',\n",
    "#              'radiogenic_heat',\n",
    "             'lithology',\n",
    "#              'pressure',\n",
    "#              'strain',\n",
    "             'strain_rate',\n",
    "#              'temperature',\n",
    "#              'temperature_anomaly',\n",
    "#              'surface',\n",
    "#              'viscosity'\n",
    "             ]\n",
    "\n",
    "# Read ascii outputs and save them as xarray.Datasets\n",
    "new_datasets = change_dataset(properties, datasets)\n",
    "\n",
    "for dataset in datasets:\n",
    "    if not os.path.isfile(f\"{model_path}/_output_{dataset}.nc\"):\n",
    "        print(f\"Could not find dataset {dataset}. Creating missing dataset.\")\n",
    "        ds_data = read_mandyoc_output(\n",
    "            model_path,\n",
    "            datasets=dataset,\n",
    "            parameters_file=\"param.txt\"\n",
    "        )     \n",
    "\n",
    "if (save_big_dataset):\n",
    "    dataset = read_datasets(model_path, new_datasets, save_big_dataset = True) \n",
    "else:\n",
    "    dataset = read_datasets(model_path, new_datasets)\n",
    "\n",
    "# Normalize velocity values\n",
    "if (\"velocity_x\" and \"velocity_z\") in dataset.data_vars:\n",
    "    v_max = np.max((dataset.velocity_x**2 + dataset.velocity_z**2)**(0.5))    \n",
    "    dataset.velocity_x[:] = dataset.velocity_x[:] / v_max\n",
    "    dataset.velocity_z[:] = dataset.velocity_z[:] / v_max\n",
    "print(dataset.info)"
   ]
  },
  {
   "cell_type": "markdown",
   "id": "ae09f9a4",
   "metadata": {},
   "source": [
    "# Plot data"
   ]
  },
  {
   "cell_type": "code",
   "execution_count": null,
   "id": "4d85ad72",
   "metadata": {
    "scrolled": false
   },
   "outputs": [],
   "source": [
    "t0 = dataset.time[0]\n",
    "t1 = dataset.time[1]\n",
    "dt = int(t1 - t0)\n",
    "\n",
    "start = int(t0)\n",
    "end = int(dataset.time.size - 1)\n",
    "step = 3\n",
    "\n",
    "# start = 0\n",
    "# end = 1\n",
    "# step = 1\n",
    "\n",
    "# step_initial = dataset.step[0]\n",
    "# step_1 = dataset.step[1]\n",
    "# step_final = dataset.step[-1]\n",
    "# dstep = int(step_1 - step_initial)\n",
    "\n",
    "for i in range(start, end, step):\n",
    "    data = dataset.isel(time=i)\n",
    "    per = np.round(100*(i+1-start)/(end-start), 2)\n",
    "    text = f\"Time: {np.round(float(data.time), 2)} Myr; Step: {int(data.step)}/{int(dataset.step.max())}, ({per:.2f}%).\"\n",
    "    \n",
    "    print(text, end='\\r')\n",
    "    \n",
    "    for prop in properties:\n",
    "#         print(f\"Handeling {prop}.\", end='\\n')\n",
    "        if(prop != 'surface'): # you can customize\n",
    "            xlims = [0, float(data.lx) / 1.0e3]\n",
    "            ylims = [-float(data.lz) / 1.0e3 + 40, 40]\n",
    "        else:\n",
    "            xmin = 0 #+ 200\n",
    "            xmax = float(data.lx) / 1.0E3 #- 200\n",
    "            xlims = [xmin, xmax]\n",
    "            ylims = [-7, 7]\n",
    "            \n",
    "        single_plot(data, prop, xlims, ylims, model_path, output_path)\n",
    "#     print((n+1)*'\\033[F', end='')"
   ]
  },
  {
   "cell_type": "markdown",
   "id": "e2ab2be9",
   "metadata": {},
   "source": [
    "# Making video"
   ]
  },
  {
   "cell_type": "code",
   "execution_count": null,
   "id": "8d517173",
   "metadata": {},
   "outputs": [],
   "source": [
    "for prop in properties:\n",
    "    line = f\"ffmpeg -r 30 -f image2 -s 1920x1080 -pattern_type glob -i '{model_path}/_output/{model_name}_{prop}_*.png' -vcodec libx264 -crf 25 -pix_fmt yuv420p {model_path}/_output/{model_name}.mp4\"\n",
    "#     print(line)\n",
    "    \n",
    "    !rm {model_path}/_output/{model_name}.mp4\n",
    "    !ffmpeg -r 30 -f image2 -s 1920x1080 -pattern_type glob -i '{model_path}/_output/{model_name}_{prop}_*.png' -vcodec libx264 -crf 25 -pix_fmt yuv420p {model_path}/_output/{model_name}.mp4\n",
    "    \n",
    "#     !rm {model_path}/_output/{model_name}.gif\n",
    "#     !ffmpeg -ss 0 -t 10 -i '{model_path}/_output/{model_name}.mp4' -vf \"fps=100,scale=1080:-1:flags=lanczos,split[s0][s1];[s0]palettegen[p];[s1][p]paletteuse\" -loop 0 {model_path}/_output/{model_name}.gif"
   ]
  },
  {
   "cell_type": "code",
   "execution_count": null,
   "id": "a5eb0a38",
   "metadata": {},
   "outputs": [],
   "source": []
  }
 ],
 "metadata": {
  "kernelspec": {
   "display_name": "Python 3 (ipykernel)",
   "language": "python",
   "name": "python3"
  },
  "language_info": {
   "codemirror_mode": {
    "name": "ipython",
    "version": 3
   },
   "file_extension": ".py",
   "mimetype": "text/x-python",
   "name": "python",
   "nbconvert_exporter": "python",
   "pygments_lexer": "ipython3",
   "version": "3.9.16"
  }
 },
 "nbformat": 4,
 "nbformat_minor": 5
}
